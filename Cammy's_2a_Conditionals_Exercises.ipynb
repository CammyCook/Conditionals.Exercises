{
  "cells": [
    {
      "cell_type": "markdown",
      "metadata": {
        "id": "view-in-github",
        "colab_type": "text"
      },
      "source": [
        "<a href=\"https://colab.research.google.com/github/CammyCook/Conditionals.Exercises/blob/main/Cammy's_2a_Conditionals_Exercises.ipynb\" target=\"_parent\"><img src=\"https://colab.research.google.com/assets/colab-badge.svg\" alt=\"Open In Colab\"/></a>"
      ]
    },
    {
      "cell_type": "markdown",
      "metadata": {
        "id": "Rx0lMGBJxSp8"
      },
      "source": [
        "# Conditionals Exercises"
      ]
    },
    {
      "cell_type": "markdown",
      "metadata": {
        "id": "hUa0UquRxjML"
      },
      "source": [
        "## Problem 1\n"
      ]
    },
    {
      "cell_type": "markdown",
      "source": [
        "Print 'A is really BIG!' if a is greater than b.\n",
        "\n",
        "```python\n",
        "a = 900\n",
        "b = 7\n",
        "```"
      ],
      "metadata": {
        "id": "edOOq_YAEBoa"
      }
    },
    {
      "cell_type": "code",
      "source": [
        "# Solution\n",
        "a = 900\n",
        "b = 7\n",
        "if a>b:\n",
        "  print(\"A is really BIG!\")"
      ],
      "metadata": {
        "id": "jTxguoEBTk1b",
        "colab": {
          "base_uri": "https://localhost:8080/"
        },
        "outputId": "59a33322-fba0-461d-dfc8-0dd1635509bb"
      },
      "execution_count": 2,
      "outputs": [
        {
          "output_type": "stream",
          "name": "stdout",
          "text": [
            "A is really BIG!\n"
          ]
        }
      ]
    },
    {
      "cell_type": "markdown",
      "metadata": {
        "id": "_JXQWDunxt66"
      },
      "source": [
        "## Problem 2\n"
      ]
    },
    {
      "cell_type": "markdown",
      "source": [
        "If a and b are equal print 'These things are the same'.  Otherwise, print 'These things are not the same'.\n",
        "\n",
        "```python\n",
        "a = 2\n",
        "b = 4\n",
        "```"
      ],
      "metadata": {
        "id": "VhMbWtXaEEvm"
      }
    },
    {
      "cell_type": "code",
      "execution_count": 4,
      "metadata": {
        "id": "fJcu66FSx2XW",
        "colab": {
          "base_uri": "https://localhost:8080/"
        },
        "outputId": "9af18b3e-61dc-43b3-c6a4-c7e1a7527d36"
      },
      "outputs": [
        {
          "output_type": "stream",
          "name": "stdout",
          "text": [
            "These things are not the same\n"
          ]
        }
      ],
      "source": [
        "# Solution\n",
        "a = 2\n",
        "b = 4\n",
        "if a == b:\n",
        " print(\"These things are the same\")\n",
        "else:\n",
        "  print(\"These things are not the same\")"
      ]
    },
    {
      "cell_type": "markdown",
      "metadata": {
        "id": "WuB_pg_jzaZI"
      },
      "source": [
        "## Problem 3\n"
      ]
    },
    {
      "cell_type": "markdown",
      "source": [
        "If a is greater than b AND b is greater than c, print your own silly sentence.\n",
        "\n",
        "```python\n",
        "a = 9\n",
        "b = 5\n",
        "c = 2\n",
        "```"
      ],
      "metadata": {
        "id": "r9cGdFctEGJL"
      }
    },
    {
      "cell_type": "code",
      "execution_count": 6,
      "metadata": {
        "id": "-v_or2BizZoR",
        "colab": {
          "base_uri": "https://localhost:8080/"
        },
        "outputId": "9dc7b2f3-7593-4ac2-9cb5-9da09fc92a3f"
      },
      "outputs": [
        {
          "output_type": "stream",
          "name": "stdout",
          "text": [
            "I am an animal\n"
          ]
        }
      ],
      "source": [
        "# Solution\n",
        "a = 9\n",
        "b = 5\n",
        "c = 2\n",
        "if a>b and b>c:\n",
        "  print(\"I am an animal\")\n",
        "else:\n",
        "  print(\"I am a mere mortal\")"
      ]
    },
    {
      "cell_type": "code",
      "source": [],
      "metadata": {
        "id": "4UDZEgAvvAKr"
      },
      "execution_count": null,
      "outputs": []
    },
    {
      "cell_type": "markdown",
      "metadata": {
        "id": "iNxwSd5Ez54Z"
      },
      "source": [
        "## Problem 4\n"
      ]
    },
    {
      "cell_type": "markdown",
      "source": [
        "If your favorite ice cream is in the list of flavors, print 'I am so happy!'\n",
        "\n",
        "```python\n",
        "flavors = [\n",
        "  'chocolate',\n",
        "  'vanilla',\n",
        "  'strawberry',\n",
        "  'chocolate-chip',\n",
        "  \"Ben and Jerry's Half-Baked\",\n",
        "]\n",
        "```"
      ],
      "metadata": {
        "id": "K4RLtjO0EHs7"
      }
    },
    {
      "cell_type": "code",
      "execution_count": 7,
      "metadata": {
        "id": "X5SeaBvPz9Pr",
        "colab": {
          "base_uri": "https://localhost:8080/"
        },
        "outputId": "2893ded1-b26f-4638-def5-3b1670464899"
      },
      "outputs": [
        {
          "output_type": "stream",
          "name": "stdout",
          "text": [
            "yummy!\n"
          ]
        }
      ],
      "source": [
        "# Solution\n",
        "flavors = [\n",
        "  'chocolate',\n",
        "  'vanilla',\n",
        "  'strawberry',\n",
        "  'chocolate-chip',\n",
        "  \"Ben and Jerry's Half-Baked\",\n",
        "]\n",
        "\n",
        "if 'chocolate' in flavors:\n",
        "  print(\"yummy!\")"
      ]
    },
    {
      "cell_type": "markdown",
      "metadata": {
        "id": "eIaPk_4ox5Hv"
      },
      "source": [
        "## Problem 5\n",
        "Make a list called mypets with your pets (real or imaginary) as elements.  \n",
        "- if mypets contains 'dog' and 'cat', print 'I am a dog person and a cat person'\n",
        "- else if mypets contains 'dog', print 'I am a dog person'\n",
        "- else if mypets contains 'cat', print 'I am a cat person'\n",
        "- otherwise, print 'I am not a cat person or a dog person'\n",
        "\n",
        "```python\n",
        "mypets = [  ]\n",
        "```\n"
      ]
    },
    {
      "cell_type": "code",
      "execution_count": 8,
      "metadata": {
        "id": "zERIi0eOyola",
        "colab": {
          "base_uri": "https://localhost:8080/"
        },
        "outputId": "945cba14-458d-4208-e65c-9d2b0670760f"
      },
      "outputs": [
        {
          "output_type": "stream",
          "name": "stdout",
          "text": [
            "['dog', 'cat', 'rabbit', 'bird']\n"
          ]
        }
      ],
      "source": [
        "# Solution\n",
        "mypets = ['dog', 'cat', 'rabbit', 'bird',  ]\n",
        "print(mypets)"
      ]
    },
    {
      "cell_type": "code",
      "source": [
        "if 'dog' and 'cat' in mypets:\n",
        "  print('I am a dog person and a cat person')\n",
        "elif 'dog' in mypets:\n",
        "  print('I am a dog person')\n",
        "elif 'cat' in mypets:\n",
        "  print('I am a cat person')\n",
        "else:\n",
        "  print(x)\n"
      ],
      "metadata": {
        "colab": {
          "base_uri": "https://localhost:8080/"
        },
        "id": "V1c9QxLSvmKt",
        "outputId": "7b359210-9672-48da-fa25-c8ae20d970ec"
      },
      "execution_count": 9,
      "outputs": [
        {
          "output_type": "stream",
          "name": "stdout",
          "text": [
            "I am a dog person and a cat person\n"
          ]
        }
      ]
    },
    {
      "cell_type": "code",
      "source": [],
      "metadata": {
        "id": "weUGM1uXwaLa"
      },
      "execution_count": null,
      "outputs": []
    }
  ],
  "metadata": {
    "colab": {
      "provenance": [],
      "include_colab_link": true
    },
    "kernelspec": {
      "display_name": "Python 3",
      "name": "python3"
    }
  },
  "nbformat": 4,
  "nbformat_minor": 0
}